{
 "cells": [
  {
   "cell_type": "markdown",
   "metadata": {},
   "source": [
    "# Understanding of this notebook \n",
    "So this notebook is intended to serve as a step by step guide-refresher, to be used when designing low level neural networks. \n",
    "Low level neural networks  refer to creating matrixes and vectors for the operations inside the neurons, on a manual manner, not utilizing high level packages like keras or scikit-learn, but rather, low level ones like tensorflow or pure numpy. Here we are going to re-read notes on matrix multiplication and linear algebra, and how operation happens in dense neural networks. \n",
    "\n",
    "the images used and thee explanation is greatly based of this linear algebra post https://towardsdatascience.com/linear-algebra-cheat-sheet-for-deep-learning-cd67aba4526c\n",
    "https://matplotlib.org/2.1.1/gallery/mplot3d/scatter3d.html\n",
    "https://www.youtube.com/watch?v=fNk_zzaMoSs&list=PLZHQObOWTQDPD3MizzM2xVFitgF8hE_ab"
   ]
  },
  {
   "cell_type": "markdown",
   "metadata": {},
   "source": [
    "# Remembering the linear algebra "
   ]
  },
  {
   "cell_type": "markdown",
   "metadata": {},
   "source": [
    "## Vectors \n",
    "\n",
    "Vectors are 1-dimensional arrays of numbers or terms.Basically, we can think of them as a  one dimensional list of values. As such, they can be represented in a plane, as changes that can happen to points. Vectors store the magnitude and direction of a potential change to a point. The vector [5, -2] says \"go right 3 and down 2\", this only can be understood as such in a two dimensional plane, for this particular vector, only  being graphically presentable in two dimensions. Consequently, a vector [3,-2, 5] could only be represented as a potential change to a point in a three dimensional plane. \n",
    "\n",
    "\n",
    "To represent graphically, the essence of what a vector represents, we use the origin coordinate to specify him. But in truth, it can be used anywhere on the plane. \n"
   ]
  },
  {
   "cell_type": "markdown",
   "metadata": {},
   "source": [
    "<img src=\"images/vectors in a graph.png\">"
   ]
  },
  {
   "cell_type": "markdown",
   "metadata": {},
   "source": [
    "Consequently, a vector A = [2,1, 3] could only be represented as a potential change to a point in a three dimensional plane. \n"
   ]
  },
  {
   "cell_type": "markdown",
   "metadata": {},
   "source": [
    "<img src=\"images/3dvector.png\" style=\"width: 600px;\">"
   ]
  },
  {
   "cell_type": "markdown",
   "metadata": {},
   "source": [
    "Note that we  use the origin, as main support to represent the vector, we could represent it from anywhere though. \n",
    "\n",
    "\n",
    "Formally, they can be presented in this different forms, but they all represent the same  \n",
    "\n",
    "\n",
    "<img src=\"images/vectorforms.png\">"
   ]
  },
  {
   "cell_type": "markdown",
   "metadata": {},
   "source": [
    "Of course, vectors can be operated on, as objects designed to store numerical information, and possible mathematical forces , we can operate on them to combine them or be affected by other vectors or by simple numbers (scalars). \n",
    "\n",
    "Addying, multyplying, dividing or subtracting a scalar to a vector, means executing that operation on each element of the vector individually."
   ]
  },
  {
   "cell_type": "markdown",
   "metadata": {},
   "source": [
    "<img src=\"images/vectorsaddition.png\">"
   ]
  },
  {
   "cell_type": "markdown",
   "metadata": {},
   "source": [
    "On the other hand , addying, multyplying, dividing or subtracting a a vector to a vector, means  executing the operatinon on their equivalent positioned parameters "
   ]
  },
  {
   "cell_type": "markdown",
   "metadata": {},
   "source": [
    "<img src=\"images/vector elementwise addition.png\">"
   ]
  },
  {
   "cell_type": "markdown",
   "metadata": {},
   "source": [
    "If we remember, vectors are forces inside dimensional planes, where each of the elements represents a value for each of the dimensions of said plain (this is the reason why a two valued vector, can only be graphically  represented in two dimensional graphs/planes) , basically operations between vectors cause for the vectors  corresponding values for each dimension, affect their counterparts on the second vector."
   ]
  },
  {
   "cell_type": "markdown",
   "metadata": {},
   "source": [
    "The vector also have anothery possible way to multiply each other, the dot  product, that reduces all the information condensed in both lists of values, into one unique number "
   ]
  },
  {
   "cell_type": "markdown",
   "metadata": {},
   "source": [
    "<img src=\"images/vectordotproduct.png\">\n"
   ]
  },
  {
   "cell_type": "markdown",
   "metadata": {},
   "source": []
  },
  {
   "cell_type": "markdown",
   "metadata": {},
   "source": [
    "### Some python examples with numpy, on vector operation"
   ]
  },
  {
   "cell_type": "code",
   "execution_count": 14,
   "metadata": {},
   "outputs": [
    {
     "name": "stdout",
     "output_type": "stream",
     "text": [
      "[3 5 7]\n",
      "[-1 -1 -1]\n",
      "[2.         1.5        1.33333333]\n"
     ]
    }
   ],
   "source": [
    "# Python exampple \n",
    "import numpy as np\n",
    "\n",
    "# creating vectors \n",
    "y = np.array([1,2,3])\n",
    "x = np.array([2,3,4])\n",
    "\n",
    "# creating basic vector to vector operations\n",
    "op1 = y + x \n",
    "op2 = y - x \n",
    "op3= x / y \n",
    "\n",
    "\n",
    "print(op1)\n",
    "print(op2)\n",
    "print(op3)"
   ]
  },
  {
   "cell_type": "code",
   "execution_count": 15,
   "metadata": {},
   "outputs": [
    {
     "name": "stdout",
     "output_type": "stream",
     "text": [
      "[14 21 28]\n",
      "[0.11111111 0.22222222 0.33333333]\n"
     ]
    }
   ],
   "source": [
    "# creating basic vector to scalar operations \n",
    "op4 = x * 7\n",
    "op5 = y / 9\n",
    "print(op4)\n",
    "print(op5)"
   ]
  },
  {
   "cell_type": "code",
   "execution_count": 16,
   "metadata": {},
   "outputs": [
    {
     "name": "stdout",
     "output_type": "stream",
     "text": [
      "20\n"
     ]
    }
   ],
   "source": [
    "# creating dot products for vectors \n",
    "op6  = np.dot(y,x)\n",
    "print(op6)"
   ]
  },
  {
   "cell_type": "markdown",
   "metadata": {},
   "source": [
    "Vectors, as a list of values regarded to different dimensions of variables, can also be seen as a coordinate, in other words, a point in a graphical representation.  But they are not frequently used as such in linear algebra , the reason being that they allow for more efficient calculation, when stored in groups of vectors inside of matrix .Vectors are interesting to represent and take into consideration, when we see them as forces that affect matrixes, thanks to this, we can use them to calculate in a very fast and efficient manner, functions and complex mathematical calculations. \n",
    "\n",
    "If you think about it, it makes sense, imagine I have a coordinate [3,7,5] and I add to it, the effect of the other coordinate, [2,5,9] , in essence, both things are vectors, and both, at the same time are potential changes of direction to each other. "
   ]
  },
  {
   "cell_type": "markdown",
   "metadata": {},
   "source": [
    "## Matrixes "
   ]
  },
  {
   "cell_type": "markdown",
   "metadata": {},
   "source": [
    "Matrixes are a different form of grouping information that organizes values in  a two dimensional object , you could consider them a  cluster of vectors, organized in groups. A grid of values (more than one list) organized in  categories/atributes/groups/classes or whatever separation criterion you could think of.The two dimensions are rows and columns. In the sense of data and value organizations, matrix essentially represent vectors ( either the rows, or columns can be seen as  vectors )  grouped or categorized in colums or rows. \n"
   ]
  },
  {
   "cell_type": "markdown",
   "metadata": {},
   "source": [
    "<img src=\"images/formalmatrix1.png\" style=\"width: 400px;\">"
   ]
  },
  {
   "cell_type": "markdown",
   "metadata": {},
   "source": [
    "Because of this two dimensional definition, you could say that actually, we have the potential to organize values based on two classification criterion, one regarding what it means for values to be in separate rows, and one for values to be in separate columns. Basically, not only do we have  many vectors now, we have a mean to differentiate them.\n",
    "\n",
    "Conventionally, in data analysis, we use the rows to represent each of the samples of our data, each interaction of data gathering, and the columns are used to represent each one a variable of study, a variable whose data we gathered in each interaction. Mathematically, this will correspond to a dimension in a plane.  \n",
    "\n",
    "\n",
    "In this way, if we had in vectors that each value was correspondant to a dimension/variable in a ndimensional plane, in a matrix each column represents a correspondent dimension/variable and reach row, a list of values each with a sample value of said dimensions. \n",
    "\n",
    "\n"
   ]
  },
  {
   "cell_type": "markdown",
   "metadata": {},
   "source": [
    "Because of this fundamental difference, in the way matrix serve to store information , they  can't be represented in a graph the same way vectors are, matrix therefore don't signify potential changes to a point, but rather, are just an organization of  different points  corresponding to different variables that are potentially related to each other.  A matrix, is sinonym to just, points in a graph. A matrix of nrows, and three columns, could be represented in a three dimensional plane. Like this one "
   ]
  },
  {
   "cell_type": "markdown",
   "metadata": {},
   "source": [
    "<img src=\"images/matrix grapichally.png\" style=\"width: 400px;\">\n"
   ]
  },
  {
   "cell_type": "markdown",
   "metadata": {},
   "source": [
    "Here, the rows would represent the number of values for each dimension, and the columns, the dimensions themselves. This would mean that each and everyone of the rows ( with one value for each column) represents a point in the graph . On consequence, a  matrix, of n rows, and 2 two collumns, would be represented like this. \n"
   ]
  },
  {
   "cell_type": "markdown",
   "metadata": {},
   "source": [
    "<img src=\"images/twodmatrix.png\" style=\"width: 400px;\">"
   ]
  },
  {
   "cell_type": "markdown",
   "metadata": {},
   "source": [
    "## Matrix operations \n",
    "\n",
    "Matrixes of course as data storing units, can be affected and operated upon. Just like vectors, and scalars, and any mathematical representation of reality. And this is very important because, computanionally, they represent the fastest olbject to wich computers can operate on.\n"
   ]
  },
  {
   "cell_type": "markdown",
   "metadata": {},
   "source": [
    "We can add, multiply, divide and subtract scalars the same way we did with vectors, we execute the operation with each element individually, resulting in a new matrix of the same dimensions as the previous one. \n",
    "\n",
    "<img src=\"images/matrix scalar operations.png\" style=\"width: 300px;\">"
   ]
  },
  {
   "cell_type": "markdown",
   "metadata": {},
   "source": [
    "Matrixes, can also be added, subtracted divided and multiplied with other matrixes, in an element wise fashion, we have to remember that at the end of the day, matrixes are clasifying values in different variables and groups, usually the colums represent the variables, and the rows represent groups related to the interaction of the data gather, though they could mean other things ( the rows could mean one type of classification and the columns a different type of classification) , or even, columns could be interactions and rows could be variables.Whatever the case, elementwise operations between matrixes are possible, but can only happen between matrixes with the same dimensions.\n",
    "\n",
    "<img src=\"images/matrix elementwiseproduct.png\" style=\"width: 600px;\">"
   ]
  },
  {
   "cell_type": "markdown",
   "metadata": {},
   "source": [
    "Matrixes also allow to realize dot product multiplication, allowing to sinthethize the information of both matrixes in a sigle object. This allows also tu multiply matrixes that don't have the same dimensions. There are some rules though to this process:\n",
    "\n",
    "1)The number of columns of the 1st matrix must equal the number of rows of the 2nd.\n",
    "2)The product of an M x N matrix and an N x K matrix is an M x K matrix. The new matrix takes the rows of the 1st and columns of the 2nd\n",
    "\n",
    "\n",
    "We execute the operation, where each element of each  row, read from the top to the bottom ( first row is the top row, and last row is the bottom row ) is multiplied by each element from each column read from left to right ( first column is further left, and last column is further to the right) \n",
    "\n",
    "\n",
    "\n",
    "\n"
   ]
  },
  {
   "cell_type": "markdown",
   "metadata": {},
   "source": [
    "<img src=\"images/matrixdotproduct.png\" style=\"width: 600px;\">"
   ]
  },
  {
   "cell_type": "markdown",
   "metadata": {},
   "source": [
    "### Some python examples with numpy, on matrix operation"
   ]
  },
  {
   "cell_type": "code",
   "execution_count": 22,
   "metadata": {},
   "outputs": [
    {
     "name": "stdout",
     "output_type": "stream",
     "text": [
      "aplus1's matrix dimensions are (2, 2)\n",
      "[[2 3]\n",
      " [4 5]]\n"
     ]
    }
   ],
   "source": [
    "a = np.array( #creates a 2x2 matrix\n",
    "[[1,2], \n",
    " [3,4]])\n",
    "\n",
    "\n",
    "aplus1 = a + 1 #adds scalar\n",
    "\n",
    "print(\"aplus1's matrix dimensions are \" + str(aplus1.shape))\n",
    "print(aplus1)"
   ]
  },
  {
   "cell_type": "code",
   "execution_count": 21,
   "metadata": {},
   "outputs": [
    {
     "name": "stdout",
     "output_type": "stream",
     "text": [
      "ab's matrix dimensions are (2, 2)\n",
      "[[ 6 12]\n",
      " [10 18]]\n"
     ]
    }
   ],
   "source": [
    "a = np.array(  # creates a 2x2 matrix\n",
    "[[2,3],\n",
    " [2,3]])\n",
    "b = np.array(  # creates another 2x2 matrix\n",
    "[[3,4],\n",
    " [5,6]])\n",
    "\n",
    "\n",
    "ab= a * b   # multiplies them \n",
    "\n",
    "\n",
    "\n",
    "print(\"ab's matrix dimensions are \" + str(ab.shape))\n",
    "print(ab)"
   ]
  },
  {
   "cell_type": "code",
   "execution_count": 20,
   "metadata": {},
   "outputs": [
    {
     "name": "stdout",
     "output_type": "stream",
     "text": [
      "a's matrix dimensions are (1, 2)\n",
      "b's matrix dimensions are (2, 2)\n",
      "mm's matrix dimensions are (1, 2)\n",
      "[[13 16]]\n"
     ]
    }
   ],
   "source": [
    "#Dot product examples \n",
    "a = np.array([\n",
    " [1, 2]\n",
    " ])  # this will create a matrix of one row, and two columns. It could be considered a vector also\n",
    "\n",
    "b = np.array([ # a matrix of two rows and two columns \n",
    " [3, 4],\n",
    " [5, 6]\n",
    " ])\n",
    "\n",
    "\n",
    "mm = np.dot(a,b) # we calculate the dot product \n",
    "print(\"a's matrix dimensions are \" + str(a.shape))\n",
    "print(\"b's matrix dimensions are \" + str(b.shape))\n",
    "\n",
    "print(\"mm's matrix dimensions are \" + str(mm.shape))\n",
    "\n",
    "print(mm)\n"
   ]
  },
  {
   "cell_type": "markdown",
   "metadata": {},
   "source": [
    "## Graphically understanding vector operations in a plane \n"
   ]
  },
  {
   "cell_type": "markdown",
   "metadata": {},
   "source": [
    "### Vector element wise operations "
   ]
  },
  {
   "cell_type": "markdown",
   "metadata": {},
   "source": [
    "Vector element wise addition, is equivalent to  moving in the direction of the vector inside a plane, and then, moving in the direction of the second vector.  Basically, like moving in the direction dimension( vector 1dimension1 + vector 2 dimension1 ) and then vector1 dimension 2 + vector 2 dimension 2). \n",
    "\n",
    "The same principle of change can be applied with element wise multiplication, divition, substraction etc. "
   ]
  },
  {
   "cell_type": "markdown",
   "metadata": {},
   "source": [
    "\n",
    "<img src=\"images/vectorgraphicadd.png\" style=\"width: 600px;\">\n"
   ]
  },
  {
   "cell_type": "markdown",
   "metadata": {},
   "source": [
    "### Vector scalar operation "
   ]
  },
  {
   "cell_type": "markdown",
   "metadata": {},
   "source": [
    "corresponds to basically, expanding the effect the movement of the vector has, by adding / multiplying / dividing, the value of the scalar to itself. \n",
    "\n",
    "\n"
   ]
  },
  {
   "cell_type": "markdown",
   "metadata": {},
   "source": [
    "<img src=\"images/vectorscalaropgraph.png\"  style=\"width: 500px;\">"
   ]
  },
  {
   "cell_type": "markdown",
   "metadata": {},
   "source": [
    "### Vector dot product "
   ]
  },
  {
   "cell_type": "markdown",
   "metadata": {},
   "source": [
    "Introduction\n",
    "The dot product is a value expressing the angular relationship between two vectors.\n",
    "A dot product is a scalar value that is the result of an operation of two vectors with the same number of components.  Given two vectors A and B each with n components, the dot product is calculated as:\n",
    "\n",
    "A · B = A1B1 + ... + AnBn\n",
    "\n",
    "The dot product is thus the sum of the products of each component of the two vectors. \n",
    "\n",
    "<img src=\"images/dotproduct1.png\" style=\"width: 600px;\">\n"
   ]
  },
  {
   "cell_type": "markdown",
   "metadata": {},
   "source": [
    " Its equivalent to projecting one vector onto the other, ,ultiplying the length of the projected vector,with the length of the vector that its projected into.\n",
    " \n",
    "<img src=\"images/dotporductvectors.png\" style=\"width: 600px;\">\n"
   ]
  },
  {
   "cell_type": "markdown",
   "metadata": {},
   "source": [
    "### Vector * Matrix dot product "
   ]
  },
  {
   "cell_type": "markdown",
   "metadata": {},
   "source": [
    " If matrixes are simply, are  groups of lists  containing different values , where said values correspond to different dimensions, ( points in a graph) and a vector, is a list of values (that correspond to the graphical representation of potential effects and changes, that can affect each and every point, inside a graph , aka, each list of values in a matrix ). Matrixes, with vectors, represent functions.\n",
    "\n",
    "f(x) = 236 x + 456 y + 376 z, this mathematically means that x , y and z affect the f(x) by multiplying 236 to the x values, 456 to the y and 376 to the z. In other words \n",
    "\n",
    "F(x) will be a matrix, representing all the list of values we can come up  or gather for x,y,z multiplied by a vector [236,456,376]\n"
   ]
  },
  {
   "cell_type": "markdown",
   "metadata": {},
   "source": [
    "\n",
    "\n",
    "<img src=\"images/vectorsandmatrrixfunct.png\" style=\"width: 600px;\">"
   ]
  },
  {
   "cell_type": "code",
   "execution_count": null,
   "metadata": {},
   "outputs": [],
   "source": []
  }
 ],
 "metadata": {
  "kernelspec": {
   "display_name": "Python 3",
   "language": "python",
   "name": "python3"
  },
  "language_info": {
   "codemirror_mode": {
    "name": "ipython",
    "version": 3
   },
   "file_extension": ".py",
   "mimetype": "text/x-python",
   "name": "python",
   "nbconvert_exporter": "python",
   "pygments_lexer": "ipython3",
   "version": "3.6.8"
  }
 },
 "nbformat": 4,
 "nbformat_minor": 2
}
